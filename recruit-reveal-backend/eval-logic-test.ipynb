{
  "nbformat": 4,
  "nbformat_minor": 2,
  "metadata": {
    "language_info": {
      "name": "python"
    },
    "kernelspec": {
      "name": "synapse_pyspark",
      "display_name": "python"
    },
    "description": null,
    "save_output": true,
    "synapse_widget": {
      "version": "0.1",
      "state": {}
    }
  },
  "cells": [
    {
      "cell_type": "code",
      "execution_count": 56,
      "outputs": [
        {
          "output_type": "display_data",
          "data": {
            "application/vnd.livy.statement-meta+json": {
              "spark_pool": "pocsparkpool",
              "statement_id": 40,
              "statement_ids": [
                36,
                37,
                38,
                39,
                40
              ],
              "state": "finished",
              "livy_statement_state": "available",
              "spark_jobs": null,
              "session_id": "37",
              "normalized_state": "finished",
              "queued_time": "2025-07-28T02:17:49.2129996Z",
              "session_start_time": null,
              "execution_start_time": "2025-07-28T02:17:49.2134816Z",
              "execution_finish_time": "2025-07-28T02:18:01.6128744Z",
              "parent_msg_id": "5a83c368-eea0-48bc-8bb1-a7b8c084a23c"
            },
            "text/plain": "StatementMeta(pocsparkpool, 37, 40, Finished, Available, Finished)"
          },
          "metadata": {}
        },
        {
          "output_type": "execute_result",
          "data": {},
          "execution_count": 56,
          "metadata": {}
        },
        {
          "output_type": "stream",
          "name": "stdout",
          "text": [
            "Requirement already satisfied: imbalanced-learn in /nfs4/pyenv-ba5cf0c6-7983-49f4-b14f-cbf90dc534db/lib/python3.10/site-packages (0.13.0)\nRequirement already satisfied: numpy<3,>=1.24.3 in /nfs4/pyenv-ba5cf0c6-7983-49f4-b14f-cbf90dc534db/lib/python3.10/site-packages (from imbalanced-learn) (1.26.4)\nRequirement already satisfied: scipy<2,>=1.10.1 in /home/trusted-service-user/cluster-env/env/lib/python3.10/site-packages (from imbalanced-learn) (1.11.4)\nRequirement already satisfied: scikit-learn<2,>=1.3.2 in /home/trusted-service-user/cluster-env/env/lib/python3.10/site-packages (from imbalanced-learn) (1.3.2)\nRequirement already satisfied: sklearn-compat<1,>=0.1 in /nfs4/pyenv-ba5cf0c6-7983-49f4-b14f-cbf90dc534db/lib/python3.10/site-packages (from imbalanced-learn) (0.1.3)\nRequirement already satisfied: joblib<2,>=1.1.1 in /home/trusted-service-user/cluster-env/env/lib/python3.10/site-packages (from imbalanced-learn) (1.3.2)\nRequirement already satisfied: threadpoolctl<4,>=2.0.0 in /home/trusted-service-user/cluster-env/env/lib/python3.10/site-packages (from imbalanced-learn) (3.3.0)\n\n\u001b[1m[\u001b[0m\u001b[34;49mnotice\u001b[0m\u001b[1;39;49m]\u001b[0m\u001b[39;49m A new release of pip is available: \u001b[0m\u001b[31;49m23.1.2\u001b[0m\u001b[39;49m -> \u001b[0m\u001b[32;49m25.1.1\u001b[0m\n\u001b[1m[\u001b[0m\u001b[34;49mnotice\u001b[0m\u001b[1;39;49m]\u001b[0m\u001b[39;49m To update, run: \u001b[0m\u001b[32;49mpython -m pip install --upgrade pip\u001b[0m\nNote: you may need to restart the kernel to use updated packages.\n"
          ]
        },
        {
          "output_type": "execute_result",
          "data": {},
          "execution_count": 56,
          "metadata": {}
        },
        {
          "output_type": "stream",
          "name": "stdout",
          "text": [
            "Warning: PySpark kernel has been restarted to use updated packages.\n\n"
          ]
        }
      ],
      "metadata": {},
      "source": [
        "%pip install imbalanced-learn"
      ]
    },
    {
      "cell_type": "code",
      "execution_count": 57,
      "outputs": [
        {
          "output_type": "display_data",
          "data": {
            "application/vnd.livy.statement-meta+json": {
              "spark_pool": "pocsparkpool",
              "statement_id": 42,
              "statement_ids": [
                42
              ],
              "state": "finished",
              "livy_statement_state": "available",
              "spark_jobs": null,
              "session_id": "37",
              "normalized_state": "finished",
              "queued_time": "2025-07-28T02:17:48.8437032Z",
              "session_start_time": null,
              "execution_start_time": "2025-07-28T02:18:08.5166068Z",
              "execution_finish_time": "2025-07-28T02:18:10.4219131Z",
              "parent_msg_id": "a854ce96-876f-484b-9f85-1b317b4804eb"
            },
            "text/plain": "StatementMeta(pocsparkpool, 37, 42, Finished, Available, Finished)"
          },
          "metadata": {}
        }
      ],
      "metadata": {},
      "source": [
        "import pandas as pd\n",
        "import numpy as np\n",
        "from scipy.stats import percentileofscore\n",
        "from sklearn.impute import KNNImputer\n",
        "from sklearn.experimental import enable_iterative_imputer  # noqa: F401\n",
        "from sklearn.impute import IterativeImputer\n",
        "from sklearn.linear_model import LogisticRegression\n",
        "from sklearn.model_selection import train_test_split, StratifiedKFold, GridSearchCV\n",
        "from sklearn.metrics import accuracy_score\n",
        "from sklearn.ensemble import RandomForestRegressor\n",
        "from imblearn.over_sampling import SMOTE\n",
        "from xgboost import XGBClassifier\n",
        "from sklearn.calibration import CalibratedClassifierCV\n",
        "from pyspark.sql import SparkSession\n",
        "\n",
        "spark = SparkSession.builder.getOrCreate()"
      ]
    },
    {
      "cell_type": "code",
      "execution_count": 58,
      "outputs": [
        {
          "output_type": "display_data",
          "data": {
            "application/vnd.livy.statement-meta+json": {
              "spark_pool": "pocsparkpool",
              "statement_id": 43,
              "statement_ids": [
                43
              ],
              "state": "finished",
              "livy_statement_state": "available",
              "spark_jobs": null,
              "session_id": "37",
              "normalized_state": "finished",
              "queued_time": "2025-07-28T02:17:48.917534Z",
              "session_start_time": null,
              "execution_start_time": "2025-07-28T02:18:10.4338475Z",
              "execution_finish_time": "2025-07-28T02:18:10.6727322Z",
              "parent_msg_id": "6b5d8daf-ffd4-4098-82a0-036213c3b4ce"
            },
            "text/plain": "StatementMeta(pocsparkpool, 37, 43, Finished, Available, Finished)"
          },
          "metadata": {}
        }
      ],
      "metadata": {},
      "source": [
        "def load_and_preprocess(csv_path, position='QB'):\n",
        "    df_spark = spark.read.csv(csv_path, header=True, inferSchema=True)\n",
        "    df = df_spark.toPandas()\n",
        "    print(df.head())  # Debug\n",
        "\n",
        "    # numeric columns (only keep those present)\n",
        "    desired_numeric = [\n",
        "        # RB stats\n",
        "        'Senior_Yds','Senior_Avg','Senior_Touches','Senior_YPG','Senior_Rec','Senior_Rec_Yds','Senior_TD',\n",
        "        'Junior_YPG',\n",
        "        # shared\n",
        "        'Height_Inches','Weight_Lbs'\n",
        "    ]\n",
        "    numeric_cols = [c for c in desired_numeric if c in df.columns]\n",
        "    df[numeric_cols] = df[numeric_cols]\\\n",
        "        .apply(pd.to_numeric, errors='coerce')\\\n",
        "        .fillna(0)\n",
        "\n",
        "    # combine drills\n",
        "    combine_cols = ['Forty_Yard_Dash','Vertical_Jump','Shuttle','Broad_Jump']\n",
        "    defaults = {\n",
        "        'Forty_Yard_Dash': 4.8 if position=='QB' else 4.6,\n",
        "        'Vertical_Jump':    30  if position=='QB' else 32,\n",
        "        'Shuttle':          4.4 if position=='QB' else 4.3,\n",
        "        'Broad_Jump':       108 if position=='QB' else 120\n",
        "    }\n",
        "    # ensure columns exist\n",
        "    for col in combine_cols:\n",
        "        if col not in df.columns:\n",
        "            df[col] = np.nan\n",
        "        df[col] = df[col].replace(0, np.nan)\n",
        "\n",
        "    # fill fully-missing drills with default\n",
        "    for col in combine_cols:\n",
        "        if df[col].isna().all():\n",
        "            df[col] = df[col].fillna(defaults[col])\n",
        "\n",
        "    # now impute the rest\n",
        "    imp = IterativeImputer(\n",
        "        estimator=RandomForestRegressor(n_estimators=10),\n",
        "        max_iter=10,\n",
        "        random_state=42\n",
        "    )\n",
        "    df[combine_cols] = imp.fit_transform(df[combine_cols])\n",
        "\n",
        "    # shared features\n",
        "    df['Senior_YPG']     = df['Senior_Yds'] / 10\n",
        "    df['Junior_YPG']     = df.get('Junior_YPG', 0)  # if missing, stays 0\n",
        "    df['Trajectory_YPG'] = np.maximum(df['Senior_YPG'] - df['Junior_YPG'], 0)\n",
        "\n",
        "    state_tiers = {'TX':1.0,'FL':1.0,'CA':1.0,'GA':1.0}\n",
        "    df['multiplier'] = df['State'].map(state_tiers).fillna(0.85)\n",
        "\n",
        "    # RB-specific\n",
        "    if position == 'RB':\n",
        "        df['games'] = np.where(df['Senior_YPG']>0, df['Senior_Yds']/df['Senior_YPG'], 12)\n",
        "        df['games'] = df['games'].clip(8,15)\n",
        "        df['ypg']              = df['Senior_Yds'] / df['games']\n",
        "        df['td_game']          = df['Senior_TD']  / df['games']\n",
        "        df['all_purpose_game'] = (df['Senior_Yds'] + df['Senior_Rec_Yds']) / df['games']\n",
        "        df['bmi']              = df['Weight_Lbs'] / (df['Height_Inches']**2) * 703\n",
        "\n",
        "    return df\n",
        ""
      ]
    },
    {
      "cell_type": "code",
      "execution_count": 59,
      "outputs": [
        {
          "output_type": "display_data",
          "data": {
            "application/vnd.livy.statement-meta+json": {
              "spark_pool": "pocsparkpool",
              "statement_id": 44,
              "statement_ids": [
                44
              ],
              "state": "finished",
              "livy_statement_state": "available",
              "spark_jobs": null,
              "session_id": "37",
              "normalized_state": "finished",
              "queued_time": "2025-07-28T02:17:49.1732465Z",
              "session_start_time": null,
              "execution_start_time": "2025-07-28T02:18:10.6867863Z",
              "execution_finish_time": "2025-07-28T02:18:10.9076816Z",
              "parent_msg_id": "a020b0a0-2bd2-4825-8e88-a6466374bca9"
            },
            "text/plain": "StatementMeta(pocsparkpool, 37, 44, Finished, Available, Finished)"
          },
          "metadata": {}
        }
      ],
      "metadata": {},
      "source": [
        "tiers_qb = {\n",
        "    'Power 5': {'base':90,'ypg_min':250,'height_min':74,'height_max':78,'weight_min':200,'weight_max':240,\n",
        "                '40_min':4.6,'40_max':4.9,'vertical_min':30,'vertical_max':34,'broad_min':108,'shuttle_max':4.5},\n",
        "    'FCS': {'base':70,'ypg_min':200,'height_min':72,'height_max':76,'weight_min':190,'weight_max':220,\n",
        "            '40_min':4.7,'40_max':5.0,'vertical_min':28,'vertical_max':32,'broad_min':102,'shuttle_max':4.6},\n",
        "    'D2': {'base':50,'ypg_min':150,'height_min':71,'height_max':74,'weight_min':180,'weight_max':210,\n",
        "           '40_min':4.8,'40_max':5.1,'vertical_min':26,'vertical_max':30,'broad_min':96, 'shuttle_max':4.7},\n",
        "    'D3/NAIA': {'base':30,'ypg_min':0,  'height_min':70,'height_max':999,'weight_min':170,'weight_max':999,\n",
        "                '40_min':4.9,'40_max':999,'vertical_min':24,'vertical_max':999,'broad_min':90, 'shuttle_max':999}\n",
        "}\n",
        "\n",
        "tiers_rb = {\n",
        "    'Power 5': {'base':90,'ypg_min':150,'height_min':69,'height_max':74,'weight_min':190,'weight_max':230,\n",
        "                '40_min':4.2,'40_max':4.4,'vertical_min':34,'vertical_max':36,'broad_min':120,'shuttle_max':4.2},\n",
        "    'FCS': {'base':70,'ypg_min':120,'height_min':68,'height_max':73,'weight_min':180,'weight_max':220,\n",
        "            '40_min':4.3,'40_max':4.5,'vertical_min':32,'vertical_max':34,'broad_min':110,'shuttle_max':4.3},\n",
        "    'D2': {'base':50,'ypg_min':90, 'height_min':67,'height_max':72,'weight_min':170,'weight_max':210,\n",
        "           '40_min':4.4,'40_max':4.6,'vertical_min':31,'vertical_max':33,'broad_min':100,'shuttle_max':4.4},\n",
        "    'D3/NAIA': {'base':30,'ypg_min':0,  'height_min':66,'height_max':999,'weight_min':160,'weight_max':999,\n",
        "                '40_min':4.5,'40_max':4.7,'vertical_min':30,'vertical_max':32,'broad_min':90, 'shuttle_max':4.5}\n",
        "}\n",
        "\n",
        "def assign_tier_base(row, position):\n",
        "    tiers = tiers_qb if position=='QB' else tiers_rb\n",
        "    for name, rules in sorted(tiers.items(), key=lambda x: x[1]['base'], reverse=True):\n",
        "        checks = [\n",
        "            row.get('Senior_YPG',0) >= rules['ypg_min'],\n",
        "            rules['height_min'] <= row['Height_Inches'] <= rules['height_max'],\n",
        "            rules['weight_min'] <= row['Weight_Lbs'] <= rules['weight_max'],\n",
        "            rules['40_min'] <= row['Forty_Yard_Dash'] <= rules['40_max'],\n",
        "            (rules['vertical_min']-1) <= row['Vertical_Jump'] <= (rules['vertical_max']+1),\n",
        "            row['Shuttle'] <= rules['shuttle_max'],\n",
        "            row['Broad_Jump'] >= rules['broad_min']\n",
        "        ]\n",
        "        if sum(checks) >= len(checks)*0.6:\n",
        "            return rules['base'], name\n",
        "    return tiers[list(tiers)[-1]]['base'], list(tiers)[-1]"
      ]
    },
    {
      "cell_type": "code",
      "execution_count": 60,
      "outputs": [
        {
          "output_type": "display_data",
          "data": {
            "application/vnd.livy.statement-meta+json": {
              "spark_pool": "pocsparkpool",
              "statement_id": 45,
              "statement_ids": [
                45
              ],
              "state": "finished",
              "livy_statement_state": "available",
              "spark_jobs": null,
              "session_id": "37",
              "normalized_state": "finished",
              "queued_time": "2025-07-28T02:17:49.2301279Z",
              "session_start_time": null,
              "execution_start_time": "2025-07-28T02:18:10.9195681Z",
              "execution_finish_time": "2025-07-28T02:18:11.150565Z",
              "parent_msg_id": "fb2518b3-6af7-4cea-8310-2bb3eda96f44"
            },
            "text/plain": "StatementMeta(pocsparkpool, 37, 45, Finished, Available, Finished)"
          },
          "metadata": {}
        }
      ],
      "metadata": {},
      "source": [
        "# Cell 4: Pillars & Bonus Functions\n",
        "\n",
        "from scipy.stats import percentileofscore\n",
        "\n",
        "# — QB percentile-rank helper (unchanged) —\n",
        "def compute_percentile_rank(df, row, tier_name):\n",
        "    if len(df) < 2:\n",
        "        return 50\n",
        "    ypg_pct  = percentileofscore(df['Senior_YPG'], row['Senior_YPG'])\n",
        "    tds_pct  = percentileofscore(df['Senior_TD_Passes'], row['Senior_TD_Passes'])\n",
        "    comp_pct = percentileofscore(df['Senior_Comp_Pct'], row['Senior_Comp_Pct'])\n",
        "    traj_pct = percentileofscore(df['Trajectory_YPG'], row['Trajectory_YPG'])\n",
        "    rank = ypg_pct*0.4 + tds_pct*0.3 + comp_pct*0.2 + traj_pct*0.1\n",
        "    if tier_name == 'Power 5':\n",
        "        rank *= 1.2\n",
        "    elif tier_name == 'FCS':\n",
        "        rank *= 1.1\n",
        "    return np.clip(rank, 0, 100)\n",
        "\n",
        "# — Shared bonus function (must be defined!) —\n",
        "state_bonus = {'TX':5, 'FL':5, 'CA':5, 'GA':5}\n",
        "def compute_bonus(row, position):\n",
        "    b = 0\n",
        "    # speed/shuttle thresholds\n",
        "    th_40 = 4.7 if position == 'QB' else 4.5\n",
        "    th_sh = 4.4 if position == 'QB' else 4.3\n",
        "    if row.get('Forty_Yard_Dash', np.nan) < th_40 or row.get('Shuttle', np.nan) < th_sh:\n",
        "        b += 10\n",
        "    if row.get('Trajectory_YPG', 0) > 50:\n",
        "        b += 5\n",
        "    b += state_bonus.get(row.get('State',''), 0)\n",
        "    if position == 'QB':\n",
        "        if (row['Senior_YPG'] + row['Senior_TD_Passes']) / (row['Height_Inches'] + row['Weight_Lbs'] + 1) > 1.0:\n",
        "            b += 5\n",
        "    else:  # RB\n",
        "        bmi = row.get('bmi', 0)\n",
        "        if 28 < bmi < 32:\n",
        "            b += 5\n",
        "    return b\n",
        "\n",
        "# — RB pillar percentiles —\n",
        "def compute_rb_performance(df, row):\n",
        "    ypg_pct = percentileofscore(df['ypg'], row['ypg'])\n",
        "    td_pct  = percentileofscore(df['td_game'], row['td_game'])\n",
        "    ypc_pct = percentileofscore(df['Senior_Avg'], row['Senior_Avg'])\n",
        "    rec_pct = percentileofscore(df['Senior_Rec'], row['Senior_Rec'])\n",
        "    return (0.4*ypg_pct + 0.3*td_pct + 0.2*ypc_pct + 0.1*rec_pct) * 0.35\n",
        "\n",
        "def compute_rb_versatility(df, row):\n",
        "    ypc_pct = percentileofscore(df['Senior_Avg'], row['Senior_Avg'])\n",
        "    rec_pct = percentileofscore(df['Senior_Rec'], row['Senior_Rec'])\n",
        "    ap_pct  = percentileofscore(df['all_purpose_game'], row['all_purpose_game'])\n",
        "    return (0.4*ypc_pct + 0.3*rec_pct + 0.3*ap_pct) * 0.4\n",
        "\n",
        "def compute_rb_athleticism(df, row):\n",
        "    f_pct = 100 - percentileofscore(df['Forty_Yard_Dash'], row['Forty_Yard_Dash'])\n",
        "    v_pct = percentileofscore(df['Vertical_Jump'], row['Vertical_Jump'])\n",
        "    s_pct = 100 - percentileofscore(df['Shuttle'], row['Shuttle'])\n",
        "    return (f_pct + v_pct + s_pct)/3 * 0.25\n",
        ""
      ]
    },
    {
      "cell_type": "code",
      "execution_count": 61,
      "outputs": [
        {
          "output_type": "display_data",
          "data": {
            "application/vnd.livy.statement-meta+json": {
              "spark_pool": "pocsparkpool",
              "statement_id": 46,
              "statement_ids": [
                46
              ],
              "state": "finished",
              "livy_statement_state": "available",
              "spark_jobs": null,
              "session_id": "37",
              "normalized_state": "finished",
              "queued_time": "2025-07-28T02:17:49.3212443Z",
              "session_start_time": null,
              "execution_start_time": "2025-07-28T02:18:11.1636654Z",
              "execution_finish_time": "2025-07-28T02:18:11.3987993Z",
              "parent_msg_id": "38440eb9-15c8-47f8-841e-4a08a907c767"
            },
            "text/plain": "StatementMeta(pocsparkpool, 37, 46, Finished, Available, Finished)"
          },
          "metadata": {}
        }
      ],
      "metadata": {},
      "source": [
        "def compute_final(df, has_actual=False, position='QB'):\n",
        "    results = []\n",
        "    for _, row in df.iterrows():\n",
        "        # base + bonus\n",
        "        base, tier_name = assign_tier_base(row, position)\n",
        "        bonus = compute_bonus(row, position)\n",
        "\n",
        "        if position == 'QB':\n",
        "            rank = compute_percentile_rank(df, row, tier_name)\n",
        "            score = (base * 0.6 + rank * 0.3) * (1 + bonus / 100) * row['multiplier']\n",
        "        else:\n",
        "            perf = compute_rb_performance(df, row)\n",
        "            vers = compute_rb_versatility(df, row)\n",
        "            ath  = compute_rb_athleticism(df, row)\n",
        "            score = (perf + vers + ath) * (1 + bonus / 100) * row['multiplier']\n",
        "\n",
        "        score = np.clip(score, 0, 100)\n",
        "\n",
        "        notes = []\n",
        "        if position == 'QB':\n",
        "            if row['Senior_TD_Passes'] > 30: notes.append('High TD Production')\n",
        "            if row['Senior_Yds'] > 3000:       notes.append('High Yardage')\n",
        "            if row['Senior_Comp_Pct'] > 60:    notes.append('High Completion %')\n",
        "            if row['Senior_YPG'] > 250:        notes.append('Strong YPG')\n",
        "            if bonus >= 10:                    notes.append('Dual-threat bonus')\n",
        "            if row['Trajectory_YPG'] > 50:     notes.append('Strong growth')\n",
        "            if score < 50:                     notes.append('Improve basics')\n",
        "        else:\n",
        "            if row['ypg'] > 150:               notes.append('High YPG')\n",
        "            if row['Senior_TD'] > 20:          notes.append('High TD Production')\n",
        "            if row['Senior_Avg'] > 5:          notes.append('Strong YPC')\n",
        "            if row['Senior_Rec'] > 20:         notes.append('Versatile Receiver')\n",
        "            if row['Forty_Yard_Dash'] < 4.5:   notes.append('Elite Speed')\n",
        "            if bonus > 0:                      notes.append('Bonus Applied')\n",
        "\n",
        "        results.append({\n",
        "            'Player_Name': row.get('Player_Name', 'Unknown'),\n",
        "            'final_rule_score': score,\n",
        "            'notes': ', '.join(notes) or 'Balanced profile'\n",
        "        })\n",
        "\n",
        "    res_df = pd.DataFrame(results)\n",
        "    df['rule_score'] = res_df['final_rule_score']\n",
        "\n",
        "    # zero-based mapping: Power5->3, FCS->2, D2->1, D3/NAIA->0\n",
        "    division_map = {\n",
        "        'Power 5': 3, 'Power5': 3, 'FBS': 3,\n",
        "        'FCS': 2,\n",
        "        'D2': 1,\n",
        "        'D3': 0, 'NAIA': 0, 'D3/NAIA': 0\n",
        "    }\n",
        "    df['Division_Num'] = df['Division'].map(division_map).fillna(0).astype(int)\n",
        "\n",
        "    if position == 'QB':\n",
        "        feats = [\n",
        "            'rule_score', 'Senior_YPG', 'Senior_TD_Passes', 'Trajectory_YPG',\n",
        "            'Height_Inches', 'Weight_Lbs', 'Forty_Yard_Dash',\n",
        "            'Vertical_Jump', 'Shuttle', 'multiplier'\n",
        "        ]\n",
        "        model = LogisticRegression(multi_class='multinomial', max_iter=5000)\n",
        "        X_train, _, y_train, _ = train_test_split(\n",
        "            df[feats].fillna(0), df['Division_Num'],\n",
        "            test_size=0.2, random_state=42\n",
        "        )\n",
        "        model.fit(X_train, y_train)\n",
        "        preds = model.predict(df[feats].fillna(0))\n",
        "\n",
        "    else:\n",
        "        feats = [\n",
        "            'rule_score', 'ypg', 'td_game', 'Trajectory_YPG',\n",
        "            'Height_Inches', 'Weight_Lbs', 'Forty_Yard_Dash',\n",
        "            'Vertical_Jump', 'Shuttle', 'multiplier',\n",
        "            'Senior_Avg', 'Senior_Rec', 'all_purpose_game', 'bmi'\n",
        "        ]\n",
        "        X, y = df[feats].fillna(0), df['Division_Num']\n",
        "        sm = SMOTE(random_state=42)\n",
        "        Xr, yr = sm.fit_resample(X, y)\n",
        "\n",
        "        param_grid = {\n",
        "            'n_estimators': [50, 100],\n",
        "            'max_depth': [3, 5],\n",
        "            'learning_rate': [0.1, 0.01]\n",
        "        }\n",
        "        inner_cv = StratifiedKFold(n_splits=3)\n",
        "        xgb = XGBClassifier(eval_metric='mlogloss', use_label_encoder=False, random_state=42)\n",
        "        grid = GridSearchCV(xgb, param_grid, cv=inner_cv)\n",
        "        grid.fit(Xr, yr)\n",
        "\n",
        "        best = grid.best_estimator_\n",
        "        cal  = CalibratedClassifierCV(best, cv=3, method='isotonic')\n",
        "        cal.fit(Xr, yr)\n",
        "        preds = cal.predict(X)\n",
        "\n",
        "    res_df['Predicted_Division'] = pd.Series(preds).map({\n",
        "        3: 'Power 5', 2: 'FCS', 1: 'D2', 0: 'D3/NAIA'\n",
        "    })\n",
        "\n",
        "    if has_actual:\n",
        "        res_df['Actual_Division'] = df['Division'].map({\n",
        "            'Power5': 'Power 5', 'FBS': 'Power 5',\n",
        "            'D3': 'D3/NAIA', 'NAIA': 'D3/NAIA'\n",
        "        })\n",
        "\n",
        "    return res_df\n",
        ""
      ]
    },
    {
      "cell_type": "code",
      "execution_count": 62,
      "outputs": [
        {
          "output_type": "display_data",
          "data": {
            "application/vnd.livy.statement-meta+json": {
              "spark_pool": "pocsparkpool",
              "statement_id": 47,
              "statement_ids": [
                47
              ],
              "state": "finished",
              "livy_statement_state": "available",
              "spark_jobs": null,
              "session_id": "37",
              "normalized_state": "finished",
              "queued_time": "2025-07-28T02:17:49.4134202Z",
              "session_start_time": null,
              "execution_start_time": "2025-07-28T02:18:11.4112018Z",
              "execution_finish_time": "2025-07-28T02:18:32.2523626Z",
              "parent_msg_id": "6fe8e23b-a86b-434f-abda-a3150cd769d0"
            },
            "text/plain": "StatementMeta(pocsparkpool, 37, 47, Finished, Available, Finished)"
          },
          "metadata": {}
        },
        {
          "output_type": "stream",
          "name": "stderr",
          "text": [
            "/home/trusted-service-user/cluster-env/env/lib/python3.10/site-packages/sklearn/impute/_iterative.py:800: ConvergenceWarning: [IterativeImputer] Early stopping criterion not reached.\n  warnings.warn(\n"
          ]
        },
        {
          "output_type": "stream",
          "name": "stdout",
          "text": [
            "       Player_Name  final_rule_score  \\\n0     Najee Harris        100.000000   \n1   Travis Etienne         51.610572   \n2  Benny Snell Jr.         57.001920   \n3   Isaiah Spiller         67.111491   \n4       Kylin Hill         80.032812   \n\n                                               notes Predicted_Division  \n0                High YPG, Strong YPC, Bonus Applied            Power 5  \n1             Strong YPC, Elite Speed, Bonus Applied            Power 5  \n2  High YPG, Strong YPC, Versatile Receiver, Bonu...            Power 5  \n3                          Strong YPC, Bonus Applied            Power 5  \n4                High YPG, Strong YPC, Bonus Applied            Power 5  \n"
          ]
        },
        {
          "output_type": "display_data",
          "data": {
            "text/plain": "<Figure size 640x480 with 1 Axes>",
            "image/png": "[encoded data removed]"
          },
          "metadata": {}
        }
      ],
      "metadata": {},
      "source": [
        "# ▼ adjust path & position ▼\n",
        "df     = load_and_preprocess(\n",
        "    'abfs://data@recruitrevealstorage2026.dfs.core.windows.net/RB list 1 - Sheet1.csv',\n",
        "    position='RB'\n",
        ")\n",
        "output = compute_final(df, has_actual=False, position='RB')\n",
        "print(output.head())\n",
        "\n",
        "import matplotlib.pyplot as plt\n",
        "output['final_rule_score'].hist()\n",
        "plt.title('RB Final Rule Score')\n",
        "plt.xlabel('Score'); plt.ylabel('Count')\n",
        "plt.show()\n",
        "\n",
        "output.to_csv(\n",
        "    'abfs://data@recruitrevealstorage2026.dfs.core.windows.net/rb_results.csv',\n",
        "    index=False\n",
        ")\n",
        ""
      ]
    }
  ]
}